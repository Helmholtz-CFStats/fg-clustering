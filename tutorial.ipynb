{
 "cells": [
  {
   "cell_type": "markdown",
   "id": "63d47af4-00f3-40be-978b-523058067a54",
   "metadata": {},
   "source": [
    "# How to use the Forest-Guided Clustering package"
   ]
  },
  {
   "cell_type": "code",
   "execution_count": 1,
   "id": "36dd27f9-16ee-4d68-9825-310f414aacbe",
   "metadata": {
    "tags": []
   },
   "outputs": [],
   "source": [
    "import pandas as pd\n",
    "import joblib\n",
    "from src.forest_guided_clustering import *"
   ]
  },
  {
   "cell_type": "markdown",
   "id": "08bc9035-f7e3-4ffd-b7e7-975bdba3f614",
   "metadata": {
    "tags": []
   },
   "source": [
    "## Example for Forest-Guided Clustering on binary-classification Random Forest model"
   ]
  },
  {
   "cell_type": "code",
   "execution_count": 2,
   "id": "6d8c01cf-42f1-4600-a1db-f3bc535bdfd9",
   "metadata": {},
   "outputs": [],
   "source": [
    "data_breast_cancer = pd.read_csv('./data/data_breast_cancer.csv')\n",
    "rf = joblib.load(open('./data/random_forest_breat_cancer.joblib', 'rb'))"
   ]
  },
  {
   "cell_type": "code",
   "execution_count": 3,
   "id": "baa2f93d-dec3-4d0d-b104-0f0ef5b1fb15",
   "metadata": {
    "scrolled": false
   },
   "outputs": [
    {
     "name": "stdout",
     "output_type": "stream",
     "text": [
      "Interpreting RandomForestClassifier\n"
     ]
    },
    {
     "name": "stderr",
     "output_type": "stream",
     "text": [
      "  0%|          | 0/6 [00:00<?, ?it/s]/home/haicu/dominik.thalmeier/anaconda3/envs/RFDev/lib/python3.8/site-packages/sklearn_extra/cluster/_k_medoids.py:243: ConvergenceWarning: Maximum number of iteration reached before convergence. Consider increasing max_iter to improve the fit.\n",
      "  warnings.warn(\n",
      "/home/haicu/dominik.thalmeier/anaconda3/envs/RFDev/lib/python3.8/site-packages/sklearn_extra/cluster/_k_medoids.py:243: ConvergenceWarning: Maximum number of iteration reached before convergence. Consider increasing max_iter to improve the fit.\n",
      "  warnings.warn(\n",
      "/home/haicu/dominik.thalmeier/anaconda3/envs/RFDev/lib/python3.8/site-packages/sklearn_extra/cluster/_k_medoids.py:243: ConvergenceWarning: Maximum number of iteration reached before convergence. Consider increasing max_iter to improve the fit.\n",
      "  warnings.warn(\n",
      " 17%|█▋        | 1/6 [00:11<00:57, 11.53s/it]"
     ]
    },
    {
     "name": "stdout",
     "output_type": "stream",
     "text": [
      "For number of cluster 2 the Jaccard Index is 0.99246061616032\n",
      "For number of cluster 2 the score is 0.06075601429195926\n"
     ]
    },
    {
     "name": "stderr",
     "output_type": "stream",
     "text": [
      "/home/haicu/dominik.thalmeier/anaconda3/envs/RFDev/lib/python3.8/site-packages/sklearn_extra/cluster/_k_medoids.py:243: ConvergenceWarning: Maximum number of iteration reached before convergence. Consider increasing max_iter to improve the fit.\n",
      "  warnings.warn(\n",
      "/home/haicu/dominik.thalmeier/anaconda3/envs/RFDev/lib/python3.8/site-packages/sklearn_extra/cluster/_k_medoids.py:243: ConvergenceWarning: Maximum number of iteration reached before convergence. Consider increasing max_iter to improve the fit.\n",
      "  warnings.warn(\n",
      "/home/haicu/dominik.thalmeier/anaconda3/envs/RFDev/lib/python3.8/site-packages/sklearn_extra/cluster/_k_medoids.py:243: ConvergenceWarning: Maximum number of iteration reached before convergence. Consider increasing max_iter to improve the fit.\n",
      "  warnings.warn(\n",
      "/home/haicu/dominik.thalmeier/anaconda3/envs/RFDev/lib/python3.8/site-packages/sklearn_extra/cluster/_k_medoids.py:243: ConvergenceWarning: Maximum number of iteration reached before convergence. Consider increasing max_iter to improve the fit.\n",
      "  warnings.warn(\n",
      " 33%|███▎      | 2/6 [00:35<01:14, 18.55s/it]"
     ]
    },
    {
     "name": "stdout",
     "output_type": "stream",
     "text": [
      "For number of cluster 3 the Jaccard Index is 0.9587756277522774\n",
      "For number of cluster 3 the score is 0.16715848101924288\n"
     ]
    },
    {
     "name": "stderr",
     "output_type": "stream",
     "text": [
      "/home/haicu/dominik.thalmeier/anaconda3/envs/RFDev/lib/python3.8/site-packages/sklearn_extra/cluster/_k_medoids.py:243: ConvergenceWarning: Maximum number of iteration reached before convergence. Consider increasing max_iter to improve the fit.\n",
      "  warnings.warn(\n",
      "/home/haicu/dominik.thalmeier/anaconda3/envs/RFDev/lib/python3.8/site-packages/sklearn_extra/cluster/_k_medoids.py:243: ConvergenceWarning: Maximum number of iteration reached before convergence. Consider increasing max_iter to improve the fit.\n",
      "  warnings.warn(\n",
      "/home/haicu/dominik.thalmeier/anaconda3/envs/RFDev/lib/python3.8/site-packages/sklearn_extra/cluster/_k_medoids.py:243: ConvergenceWarning: Maximum number of iteration reached before convergence. Consider increasing max_iter to improve the fit.\n",
      "  warnings.warn(\n",
      "/home/haicu/dominik.thalmeier/anaconda3/envs/RFDev/lib/python3.8/site-packages/sklearn_extra/cluster/_k_medoids.py:243: ConvergenceWarning: Maximum number of iteration reached before convergence. Consider increasing max_iter to improve the fit.\n",
      "  warnings.warn(\n",
      "/home/haicu/dominik.thalmeier/anaconda3/envs/RFDev/lib/python3.8/site-packages/sklearn_extra/cluster/_k_medoids.py:243: ConvergenceWarning: Maximum number of iteration reached before convergence. Consider increasing max_iter to improve the fit.\n",
      "  warnings.warn(\n",
      "/home/haicu/dominik.thalmeier/anaconda3/envs/RFDev/lib/python3.8/site-packages/sklearn_extra/cluster/_k_medoids.py:243: ConvergenceWarning: Maximum number of iteration reached before convergence. Consider increasing max_iter to improve the fit.\n",
      "  warnings.warn(\n",
      "/home/haicu/dominik.thalmeier/anaconda3/envs/RFDev/lib/python3.8/site-packages/sklearn_extra/cluster/_k_medoids.py:243: ConvergenceWarning: Maximum number of iteration reached before convergence. Consider increasing max_iter to improve the fit.\n",
      "  warnings.warn(\n",
      " 50%|█████     | 3/6 [01:17<01:28, 29.66s/it]"
     ]
    },
    {
     "name": "stdout",
     "output_type": "stream",
     "text": [
      "For number of cluster 4 the Jaccard Index is 0.7309845198344017\n",
      "For number of cluster 4 the score is 0.11800660882985625\n"
     ]
    },
    {
     "name": "stderr",
     "output_type": "stream",
     "text": [
      "/home/haicu/dominik.thalmeier/anaconda3/envs/RFDev/lib/python3.8/site-packages/sklearn_extra/cluster/_k_medoids.py:243: ConvergenceWarning: Maximum number of iteration reached before convergence. Consider increasing max_iter to improve the fit.\n",
      "  warnings.warn(\n",
      "/home/haicu/dominik.thalmeier/anaconda3/envs/RFDev/lib/python3.8/site-packages/sklearn_extra/cluster/_k_medoids.py:243: ConvergenceWarning: Maximum number of iteration reached before convergence. Consider increasing max_iter to improve the fit.\n",
      "  warnings.warn(\n",
      "/home/haicu/dominik.thalmeier/anaconda3/envs/RFDev/lib/python3.8/site-packages/sklearn_extra/cluster/_k_medoids.py:243: ConvergenceWarning: Maximum number of iteration reached before convergence. Consider increasing max_iter to improve the fit.\n",
      "  warnings.warn(\n",
      "/home/haicu/dominik.thalmeier/anaconda3/envs/RFDev/lib/python3.8/site-packages/sklearn_extra/cluster/_k_medoids.py:243: ConvergenceWarning: Maximum number of iteration reached before convergence. Consider increasing max_iter to improve the fit.\n",
      "  warnings.warn(\n",
      "/home/haicu/dominik.thalmeier/anaconda3/envs/RFDev/lib/python3.8/site-packages/sklearn_extra/cluster/_k_medoids.py:243: ConvergenceWarning: Maximum number of iteration reached before convergence. Consider increasing max_iter to improve the fit.\n",
      "  warnings.warn(\n",
      "/home/haicu/dominik.thalmeier/anaconda3/envs/RFDev/lib/python3.8/site-packages/sklearn_extra/cluster/_k_medoids.py:243: ConvergenceWarning: Maximum number of iteration reached before convergence. Consider increasing max_iter to improve the fit.\n",
      "  warnings.warn(\n",
      "/home/haicu/dominik.thalmeier/anaconda3/envs/RFDev/lib/python3.8/site-packages/sklearn_extra/cluster/_k_medoids.py:243: ConvergenceWarning: Maximum number of iteration reached before convergence. Consider increasing max_iter to improve the fit.\n",
      "  warnings.warn(\n",
      "/home/haicu/dominik.thalmeier/anaconda3/envs/RFDev/lib/python3.8/site-packages/sklearn_extra/cluster/_k_medoids.py:243: ConvergenceWarning: Maximum number of iteration reached before convergence. Consider increasing max_iter to improve the fit.\n",
      "  warnings.warn(\n",
      "/home/haicu/dominik.thalmeier/anaconda3/envs/RFDev/lib/python3.8/site-packages/sklearn_extra/cluster/_k_medoids.py:243: ConvergenceWarning: Maximum number of iteration reached before convergence. Consider increasing max_iter to improve the fit.\n",
      "  warnings.warn(\n",
      "/home/haicu/dominik.thalmeier/anaconda3/envs/RFDev/lib/python3.8/site-packages/sklearn_extra/cluster/_k_medoids.py:243: ConvergenceWarning: Maximum number of iteration reached before convergence. Consider increasing max_iter to improve the fit.\n",
      "  warnings.warn(\n",
      " 67%|██████▋   | 4/6 [02:20<01:24, 42.50s/it]"
     ]
    },
    {
     "name": "stdout",
     "output_type": "stream",
     "text": [
      "For number of cluster 5 the Jaccard Index is 0.6742864154785652\n",
      "For number of cluster 5 the score is 0.0937287660151763\n"
     ]
    },
    {
     "name": "stderr",
     "output_type": "stream",
     "text": [
      "/home/haicu/dominik.thalmeier/anaconda3/envs/RFDev/lib/python3.8/site-packages/sklearn_extra/cluster/_k_medoids.py:243: ConvergenceWarning: Maximum number of iteration reached before convergence. Consider increasing max_iter to improve the fit.\n",
      "  warnings.warn(\n",
      "/home/haicu/dominik.thalmeier/anaconda3/envs/RFDev/lib/python3.8/site-packages/sklearn_extra/cluster/_k_medoids.py:243: ConvergenceWarning: Maximum number of iteration reached before convergence. Consider increasing max_iter to improve the fit.\n",
      "  warnings.warn(\n",
      "/home/haicu/dominik.thalmeier/anaconda3/envs/RFDev/lib/python3.8/site-packages/sklearn_extra/cluster/_k_medoids.py:243: ConvergenceWarning: Maximum number of iteration reached before convergence. Consider increasing max_iter to improve the fit.\n",
      "  warnings.warn(\n",
      "/home/haicu/dominik.thalmeier/anaconda3/envs/RFDev/lib/python3.8/site-packages/sklearn_extra/cluster/_k_medoids.py:243: ConvergenceWarning: Maximum number of iteration reached before convergence. Consider increasing max_iter to improve the fit.\n",
      "  warnings.warn(\n",
      "/home/haicu/dominik.thalmeier/anaconda3/envs/RFDev/lib/python3.8/site-packages/sklearn_extra/cluster/_k_medoids.py:243: ConvergenceWarning: Maximum number of iteration reached before convergence. Consider increasing max_iter to improve the fit.\n",
      "  warnings.warn(\n",
      "/home/haicu/dominik.thalmeier/anaconda3/envs/RFDev/lib/python3.8/site-packages/sklearn_extra/cluster/_k_medoids.py:243: ConvergenceWarning: Maximum number of iteration reached before convergence. Consider increasing max_iter to improve the fit.\n",
      "  warnings.warn(\n",
      "/home/haicu/dominik.thalmeier/anaconda3/envs/RFDev/lib/python3.8/site-packages/sklearn_extra/cluster/_k_medoids.py:243: ConvergenceWarning: Maximum number of iteration reached before convergence. Consider increasing max_iter to improve the fit.\n",
      "  warnings.warn(\n",
      "/home/haicu/dominik.thalmeier/anaconda3/envs/RFDev/lib/python3.8/site-packages/sklearn_extra/cluster/_k_medoids.py:243: ConvergenceWarning: Maximum number of iteration reached before convergence. Consider increasing max_iter to improve the fit.\n",
      "  warnings.warn(\n",
      " 83%|████████▎ | 5/6 [03:25<00:50, 50.81s/it]"
     ]
    },
    {
     "name": "stdout",
     "output_type": "stream",
     "text": [
      "For number of cluster 6 the Jaccard Index is 0.7370787948629989\n",
      "For number of cluster 6 the score is 0.0898883258202708\n"
     ]
    },
    {
     "name": "stderr",
     "output_type": "stream",
     "text": [
      "/home/haicu/dominik.thalmeier/anaconda3/envs/RFDev/lib/python3.8/site-packages/sklearn_extra/cluster/_k_medoids.py:243: ConvergenceWarning: Maximum number of iteration reached before convergence. Consider increasing max_iter to improve the fit.\n",
      "  warnings.warn(\n",
      "/home/haicu/dominik.thalmeier/anaconda3/envs/RFDev/lib/python3.8/site-packages/sklearn_extra/cluster/_k_medoids.py:243: ConvergenceWarning: Maximum number of iteration reached before convergence. Consider increasing max_iter to improve the fit.\n",
      "  warnings.warn(\n",
      "/home/haicu/dominik.thalmeier/anaconda3/envs/RFDev/lib/python3.8/site-packages/sklearn_extra/cluster/_k_medoids.py:243: ConvergenceWarning: Maximum number of iteration reached before convergence. Consider increasing max_iter to improve the fit.\n",
      "  warnings.warn(\n",
      "/home/haicu/dominik.thalmeier/anaconda3/envs/RFDev/lib/python3.8/site-packages/sklearn_extra/cluster/_k_medoids.py:243: ConvergenceWarning: Maximum number of iteration reached before convergence. Consider increasing max_iter to improve the fit.\n",
      "  warnings.warn(\n",
      "/home/haicu/dominik.thalmeier/anaconda3/envs/RFDev/lib/python3.8/site-packages/sklearn_extra/cluster/_k_medoids.py:243: ConvergenceWarning: Maximum number of iteration reached before convergence. Consider increasing max_iter to improve the fit.\n",
      "  warnings.warn(\n",
      "/home/haicu/dominik.thalmeier/anaconda3/envs/RFDev/lib/python3.8/site-packages/sklearn_extra/cluster/_k_medoids.py:243: ConvergenceWarning: Maximum number of iteration reached before convergence. Consider increasing max_iter to improve the fit.\n",
      "  warnings.warn(\n",
      "/home/haicu/dominik.thalmeier/anaconda3/envs/RFDev/lib/python3.8/site-packages/sklearn_extra/cluster/_k_medoids.py:243: ConvergenceWarning: Maximum number of iteration reached before convergence. Consider increasing max_iter to improve the fit.\n",
      "  warnings.warn(\n",
      "/home/haicu/dominik.thalmeier/anaconda3/envs/RFDev/lib/python3.8/site-packages/sklearn_extra/cluster/_k_medoids.py:243: ConvergenceWarning: Maximum number of iteration reached before convergence. Consider increasing max_iter to improve the fit.\n",
      "  warnings.warn(\n",
      "/home/haicu/dominik.thalmeier/anaconda3/envs/RFDev/lib/python3.8/site-packages/sklearn_extra/cluster/_k_medoids.py:243: ConvergenceWarning: Maximum number of iteration reached before convergence. Consider increasing max_iter to improve the fit.\n",
      "  warnings.warn(\n",
      "/home/haicu/dominik.thalmeier/anaconda3/envs/RFDev/lib/python3.8/site-packages/sklearn_extra/cluster/_k_medoids.py:243: ConvergenceWarning: Maximum number of iteration reached before convergence. Consider increasing max_iter to improve the fit.\n",
      "  warnings.warn(\n",
      "/home/haicu/dominik.thalmeier/anaconda3/envs/RFDev/lib/python3.8/site-packages/sklearn_extra/cluster/_k_medoids.py:243: ConvergenceWarning: Maximum number of iteration reached before convergence. Consider increasing max_iter to improve the fit.\n",
      "  warnings.warn(\n",
      "/home/haicu/dominik.thalmeier/anaconda3/envs/RFDev/lib/python3.8/site-packages/sklearn_extra/cluster/_k_medoids.py:243: ConvergenceWarning: Maximum number of iteration reached before convergence. Consider increasing max_iter to improve the fit.\n",
      "  warnings.warn(\n",
      "/home/haicu/dominik.thalmeier/anaconda3/envs/RFDev/lib/python3.8/site-packages/sklearn_extra/cluster/_k_medoids.py:243: ConvergenceWarning: Maximum number of iteration reached before convergence. Consider increasing max_iter to improve the fit.\n",
      "  warnings.warn(\n",
      "/home/haicu/dominik.thalmeier/anaconda3/envs/RFDev/lib/python3.8/site-packages/sklearn_extra/cluster/_k_medoids.py:243: ConvergenceWarning: Maximum number of iteration reached before convergence. Consider increasing max_iter to improve the fit.\n",
      "  warnings.warn(\n",
      "100%|██████████| 6/6 [05:12<00:00, 52.07s/it]"
     ]
    },
    {
     "name": "stdout",
     "output_type": "stream",
     "text": [
      "For number of cluster 7 the Jaccard Index is 0.3254831237925076\n",
      "Clustering is instable, no score computed!\n",
      "The optimal number of clusters is 2\n",
      "Visualizing forest guided clustering for 2 clusters\n"
     ]
    },
    {
     "name": "stderr",
     "output_type": "stream",
     "text": [
      "\n",
      "/home/haicu/dominik.thalmeier/anaconda3/envs/RFDev/lib/python3.8/site-packages/scipy/stats/stats.py:3650: F_onewayConstantInputWarning: Each of the input arrays is constant;the F statistic is not defined or infinite\n",
      "  warnings.warn(F_onewayConstantInputWarning())\n",
      "/home/haicu/dominik.thalmeier/anaconda3/envs/RFDev/lib/python3.8/site-packages/seaborn/axisgrid.py:670: UserWarning: Using the boxplot function without specifying `order` is likely to produce an incorrect plot.\n",
      "  warnings.warn(warning)\n"
     ]
    }
   ],
   "source": [
    "optimal_k = forest_guided_clustering(output='forest_guided_clustering_classification', model=rf, data=data_breast_cancer, target_column='target',  \n",
    "                                     max_K = 8, thr_pvalue = 0.001, \n",
    "                                     bootstraps = 100, max_iter_clustering = 100, discart_value = 0.6, number_of_clusters = None, random_state = 42)\n"
   ]
  },
  {
   "cell_type": "markdown",
   "id": "db2efe6a",
   "metadata": {},
   "source": [
    "## Example for Forest-Guided Clustering on multiclass-classification Random Forest model\n"
   ]
  },
  {
   "cell_type": "code",
   "execution_count": 4,
   "id": "6c9374c6",
   "metadata": {},
   "outputs": [],
   "source": [
    "data_iris = pd.read_csv('./data/data_iris.csv')\n",
    "rf = joblib.load(open('./data/random_forest_iris.joblib', 'rb'))"
   ]
  },
  {
   "cell_type": "code",
   "execution_count": 5,
   "id": "b26093bf",
   "metadata": {},
   "outputs": [
    {
     "name": "stdout",
     "output_type": "stream",
     "text": [
      "Interpreting RandomForestClassifier\n"
     ]
    },
    {
     "name": "stderr",
     "output_type": "stream",
     "text": [
      " 17%|█▋        | 1/6 [00:00<00:02,  1.91it/s]"
     ]
    },
    {
     "name": "stdout",
     "output_type": "stream",
     "text": [
      "For number of cluster 2 the Jaccard Index is 0.9893571428571429\n",
      "For number of cluster 2 the score is 0.25\n"
     ]
    },
    {
     "name": "stderr",
     "output_type": "stream",
     "text": [
      "\r",
      " 33%|███▎      | 2/6 [00:01<00:02,  1.48it/s]"
     ]
    },
    {
     "name": "stdout",
     "output_type": "stream",
     "text": [
      "For number of cluster 3 the Jaccard Index is 0.9838782348516147\n",
      "For number of cluster 3 the score is 0.0841213837498657\n"
     ]
    },
    {
     "name": "stderr",
     "output_type": "stream",
     "text": [
      "/home/haicu/dominik.thalmeier/anaconda3/envs/RFDev/lib/python3.8/site-packages/sklearn_extra/cluster/_k_medoids.py:243: ConvergenceWarning: Maximum number of iteration reached before convergence. Consider increasing max_iter to improve the fit.\n",
      "  warnings.warn(\n",
      " 50%|█████     | 3/6 [00:02<00:02,  1.10it/s]"
     ]
    },
    {
     "name": "stdout",
     "output_type": "stream",
     "text": [
      "For number of cluster 4 the Jaccard Index is 0.7539292096792097\n",
      "For number of cluster 4 the score is 0.1438279988151725\n"
     ]
    },
    {
     "name": "stderr",
     "output_type": "stream",
     "text": [
      "\r",
      " 67%|██████▋   | 4/6 [00:03<00:02,  1.04s/it]"
     ]
    },
    {
     "name": "stdout",
     "output_type": "stream",
     "text": [
      "For number of cluster 5 the Jaccard Index is 0.47576653901653887\n",
      "Clustering is instable, no score computed!\n"
     ]
    },
    {
     "name": "stderr",
     "output_type": "stream",
     "text": [
      "\r",
      " 83%|████████▎ | 5/6 [00:05<00:01,  1.23s/it]"
     ]
    },
    {
     "name": "stdout",
     "output_type": "stream",
     "text": [
      "For number of cluster 6 the Jaccard Index is 0.6026762126762125\n",
      "For number of cluster 6 the score is 0.12860082304526751\n"
     ]
    },
    {
     "name": "stderr",
     "output_type": "stream",
     "text": [
      "100%|██████████| 6/6 [00:07<00:00,  1.18s/it]"
     ]
    },
    {
     "name": "stdout",
     "output_type": "stream",
     "text": [
      "For number of cluster 7 the Jaccard Index is 0.71625\n",
      "For number of cluster 7 the score is 0.14609653385163587\n",
      "The optimal number of clusters is 3\n",
      "Visualizing forest guided clustering for 3 clusters\n"
     ]
    },
    {
     "name": "stderr",
     "output_type": "stream",
     "text": [
      "\n",
      "/home/haicu/dominik.thalmeier/anaconda3/envs/RFDev/lib/python3.8/site-packages/scipy/stats/stats.py:3650: F_onewayConstantInputWarning: Each of the input arrays is constant;the F statistic is not defined or infinite\n",
      "  warnings.warn(F_onewayConstantInputWarning())\n",
      "/home/haicu/dominik.thalmeier/anaconda3/envs/RFDev/lib/python3.8/site-packages/seaborn/axisgrid.py:670: UserWarning: Using the boxplot function without specifying `order` is likely to produce an incorrect plot.\n",
      "  warnings.warn(warning)\n"
     ]
    }
   ],
   "source": [
    "optimal_k = forest_guided_clustering(output='forest_guided_clustering_classification', model=rf, data=data_iris, target_column='target',  \n",
    "                                     max_K = 8, thr_pvalue = 0.001, \n",
    "                                     bootstraps = 100, max_iter_clustering = 100, discart_value = 0.6, number_of_clusters = None, random_state = 42)\n",
    "\n"
   ]
  },
  {
   "cell_type": "markdown",
   "id": "25d01ca4-02f4-4c84-a3bb-2b76819dbe82",
   "metadata": {},
   "source": [
    "## Example for Forest-Guided Clustering on regression Random Forest model"
   ]
  },
  {
   "cell_type": "code",
   "execution_count": 6,
   "id": "77a6bd0c-a973-4a5d-a717-f0082274aa99",
   "metadata": {},
   "outputs": [],
   "source": [
    "data_boston = pd.read_csv('./data/data_boston.csv')\n",
    "rf = joblib.load(open('./data/random_forest_boston.joblib', 'rb'))"
   ]
  },
  {
   "cell_type": "code",
   "execution_count": 7,
   "id": "3e4ec7a8-a45c-462a-a330-8c4885351195",
   "metadata": {},
   "outputs": [
    {
     "name": "stdout",
     "output_type": "stream",
     "text": [
      "Interpreting RandomForestRegressor\n"
     ]
    },
    {
     "name": "stderr",
     "output_type": "stream",
     "text": [
      "  0%|          | 0/6 [00:01<?, ?it/s]\n"
     ]
    },
    {
     "ename": "KeyboardInterrupt",
     "evalue": "",
     "output_type": "error",
     "traceback": [
      "\u001b[0;31m---------------------------------------------------------------------------\u001b[0m",
      "\u001b[0;31mKeyboardInterrupt\u001b[0m                         Traceback (most recent call last)",
      "\u001b[0;32m<ipython-input-7-2739973c9958>\u001b[0m in \u001b[0;36m<module>\u001b[0;34m\u001b[0m\n\u001b[0;32m----> 1\u001b[0;31m optimal_k = forest_guided_clustering(output='forest_guided_clustering_regression', model=rf, data=data_boston, target_column='target',  \n\u001b[0m\u001b[1;32m      2\u001b[0m                                      \u001b[0mmax_K\u001b[0m \u001b[0;34m=\u001b[0m \u001b[0;36m8\u001b[0m\u001b[0;34m,\u001b[0m \u001b[0mthr_pvalue\u001b[0m \u001b[0;34m=\u001b[0m \u001b[0;36m0.001\u001b[0m\u001b[0;34m,\u001b[0m\u001b[0;34m\u001b[0m\u001b[0;34m\u001b[0m\u001b[0m\n\u001b[1;32m      3\u001b[0m                                      bootstraps = 100, max_iter_clustering = 100, discart_value = 0.6, number_of_clusters = None, random_state = 42)\n",
      "\u001b[0;32m/home/icb/dominik.thalmeier/projects/InterpretableRF/forest_guided_clustering/src/forest_guided_clustering.py\u001b[0m in \u001b[0;36mforest_guided_clustering\u001b[0;34m(output, model, data, target_column, max_K, thr_pvalue, bootstraps, max_iter_clustering, discart_value, number_of_clusters, random_state)\u001b[0m\n\u001b[1;32m     80\u001b[0m \u001b[0;34m\u001b[0m\u001b[0m\n\u001b[1;32m     81\u001b[0m     \u001b[0;32mif\u001b[0m \u001b[0mnumber_of_clusters\u001b[0m \u001b[0;32mis\u001b[0m \u001b[0;32mNone\u001b[0m\u001b[0;34m:\u001b[0m\u001b[0;34m\u001b[0m\u001b[0;34m\u001b[0m\u001b[0m\n\u001b[0;32m---> 82\u001b[0;31m         \u001b[0mk\u001b[0m \u001b[0;34m=\u001b[0m \u001b[0mopt\u001b[0m\u001b[0;34m.\u001b[0m\u001b[0moptimizeK\u001b[0m\u001b[0;34m(\u001b[0m\u001b[0mdistanceMatrix\u001b[0m\u001b[0;34m,\u001b[0m \u001b[0my\u001b[0m\u001b[0;34m,\u001b[0m \u001b[0mmax_K\u001b[0m\u001b[0;34m,\u001b[0m \u001b[0mbootstraps\u001b[0m\u001b[0;34m,\u001b[0m \u001b[0mmax_iter_clustering\u001b[0m\u001b[0;34m,\u001b[0m \u001b[0mdiscart_value\u001b[0m\u001b[0;34m,\u001b[0m \u001b[0mmethod\u001b[0m\u001b[0;34m,\u001b[0m \u001b[0mrandom_state\u001b[0m\u001b[0;34m)\u001b[0m\u001b[0;34m\u001b[0m\u001b[0;34m\u001b[0m\u001b[0m\n\u001b[0m\u001b[1;32m     83\u001b[0m     \u001b[0;32melse\u001b[0m\u001b[0;34m:\u001b[0m\u001b[0;34m\u001b[0m\u001b[0;34m\u001b[0m\u001b[0m\n\u001b[1;32m     84\u001b[0m         \u001b[0mk\u001b[0m \u001b[0;34m=\u001b[0m \u001b[0mnumber_of_clusters\u001b[0m\u001b[0;34m\u001b[0m\u001b[0;34m\u001b[0m\u001b[0m\n",
      "\u001b[0;32m/home/icb/dominik.thalmeier/projects/InterpretableRF/forest_guided_clustering/src/optimizer.py\u001b[0m in \u001b[0;36moptimizeK\u001b[0;34m(distance_matrix, y, max_K, bootstraps, max_iter_clustering, discart_value, method, random_state)\u001b[0m\n\u001b[1;32m     50\u001b[0m \u001b[0;34m\u001b[0m\u001b[0m\n\u001b[1;32m     51\u001b[0m         \u001b[0;31m# compute jaccard indices\u001b[0m\u001b[0;34m\u001b[0m\u001b[0;34m\u001b[0m\u001b[0;34m\u001b[0m\u001b[0m\n\u001b[0;32m---> 52\u001b[0;31m         \u001b[0mindex_per_cluster\u001b[0m \u001b[0;34m=\u001b[0m \u001b[0mcompute_stability_indices\u001b[0m\u001b[0;34m(\u001b[0m\u001b[0mdistance_matrix\u001b[0m\u001b[0;34m,\u001b[0m \u001b[0mcluster_method\u001b[0m\u001b[0;34m,\u001b[0m \u001b[0mbootstraps\u001b[0m\u001b[0;34m,\u001b[0m \u001b[0mrandom_state\u001b[0m\u001b[0;34m)\u001b[0m\u001b[0;34m\u001b[0m\u001b[0;34m\u001b[0m\u001b[0m\n\u001b[0m\u001b[1;32m     53\u001b[0m         \u001b[0mmin_index\u001b[0m \u001b[0;34m=\u001b[0m \u001b[0mmin\u001b[0m\u001b[0;34m(\u001b[0m\u001b[0;34m[\u001b[0m\u001b[0mindex_per_cluster\u001b[0m\u001b[0;34m[\u001b[0m\u001b[0mcluster\u001b[0m\u001b[0;34m]\u001b[0m \u001b[0;32mfor\u001b[0m \u001b[0mcluster\u001b[0m \u001b[0;32min\u001b[0m \u001b[0mindex_per_cluster\u001b[0m\u001b[0;34m.\u001b[0m\u001b[0mkeys\u001b[0m\u001b[0;34m(\u001b[0m\u001b[0;34m)\u001b[0m\u001b[0;34m]\u001b[0m\u001b[0;34m)\u001b[0m\u001b[0;34m\u001b[0m\u001b[0;34m\u001b[0m\u001b[0m\n\u001b[1;32m     54\u001b[0m \u001b[0;34m\u001b[0m\u001b[0m\n",
      "\u001b[0;32m/home/icb/dominik.thalmeier/projects/InterpretableRF/forest_guided_clustering/src/optimizer.py\u001b[0m in \u001b[0;36mcompute_stability_indices\u001b[0;34m(distance_matrix, cluster_method, bootstraps, random_state)\u001b[0m\n\u001b[1;32m    110\u001b[0m     \u001b[0;32mfor\u001b[0m \u001b[0mi\u001b[0m \u001b[0;32min\u001b[0m \u001b[0mrange\u001b[0m\u001b[0;34m(\u001b[0m\u001b[0mbootstraps\u001b[0m\u001b[0;34m)\u001b[0m\u001b[0;34m:\u001b[0m\u001b[0;34m\u001b[0m\u001b[0;34m\u001b[0m\u001b[0m\n\u001b[1;32m    111\u001b[0m         \u001b[0mbootstrapped_distance_matrix\u001b[0m\u001b[0;34m,\u001b[0m \u001b[0mmapping_bootstrapped_indices_to_original_indices\u001b[0m \u001b[0;34m=\u001b[0m \u001b[0m_bootstrap_matrix\u001b[0m\u001b[0;34m(\u001b[0m\u001b[0mdistance_matrix\u001b[0m\u001b[0;34m)\u001b[0m\u001b[0;34m\u001b[0m\u001b[0;34m\u001b[0m\u001b[0m\n\u001b[0;32m--> 112\u001b[0;31m         \u001b[0mbootstrapped_labels\u001b[0m \u001b[0;34m=\u001b[0m \u001b[0mcluster_method\u001b[0m\u001b[0;34m(\u001b[0m\u001b[0mbootstrapped_distance_matrix\u001b[0m\u001b[0;34m)\u001b[0m\u001b[0;34m\u001b[0m\u001b[0;34m\u001b[0m\u001b[0m\n\u001b[0m\u001b[1;32m    113\u001b[0m \u001b[0;34m\u001b[0m\u001b[0m\n\u001b[1;32m    114\u001b[0m         \u001b[0;31m# now compute the indices for the different clusters\u001b[0m\u001b[0;34m\u001b[0m\u001b[0;34m\u001b[0m\u001b[0;34m\u001b[0m\u001b[0m\n",
      "\u001b[0;32m/home/icb/dominik.thalmeier/projects/InterpretableRF/forest_guided_clustering/src/optimizer.py\u001b[0m in \u001b[0;36m<lambda>\u001b[0;34m(X)\u001b[0m\n\u001b[1;32m     46\u001b[0m     \u001b[0;32mfor\u001b[0m \u001b[0mk\u001b[0m \u001b[0;32min\u001b[0m \u001b[0mtqdm\u001b[0m\u001b[0;34m(\u001b[0m\u001b[0mrange\u001b[0m\u001b[0;34m(\u001b[0m\u001b[0;36m2\u001b[0m\u001b[0;34m,\u001b[0m \u001b[0mmax_K\u001b[0m\u001b[0;34m)\u001b[0m\u001b[0;34m)\u001b[0m\u001b[0;34m:\u001b[0m\u001b[0;34m\u001b[0m\u001b[0;34m\u001b[0m\u001b[0m\n\u001b[1;32m     47\u001b[0m         \u001b[0;31m#compute clusters\u001b[0m\u001b[0;34m\u001b[0m\u001b[0;34m\u001b[0m\u001b[0;34m\u001b[0m\u001b[0m\n\u001b[0;32m---> 48\u001b[0;31m         \u001b[0mcluster_method\u001b[0m \u001b[0;34m=\u001b[0m \u001b[0;32mlambda\u001b[0m \u001b[0mX\u001b[0m\u001b[0;34m:\u001b[0m \u001b[0mKMedoids\u001b[0m\u001b[0;34m(\u001b[0m\u001b[0mn_clusters\u001b[0m\u001b[0;34m=\u001b[0m\u001b[0mk\u001b[0m\u001b[0;34m,\u001b[0m \u001b[0mrandom_state\u001b[0m\u001b[0;34m=\u001b[0m\u001b[0mrandom_state\u001b[0m\u001b[0;34m,\u001b[0m \u001b[0minit\u001b[0m \u001b[0;34m=\u001b[0m \u001b[0;34m'build'\u001b[0m\u001b[0;34m,\u001b[0m \u001b[0mmethod\u001b[0m \u001b[0;34m=\u001b[0m \u001b[0;34m\"pam\"\u001b[0m\u001b[0;34m,\u001b[0m \u001b[0mmax_iter\u001b[0m\u001b[0;34m=\u001b[0m\u001b[0mmax_iter_clustering\u001b[0m\u001b[0;34m)\u001b[0m\u001b[0;34m.\u001b[0m\u001b[0mfit\u001b[0m\u001b[0;34m(\u001b[0m\u001b[0mX\u001b[0m\u001b[0;34m)\u001b[0m\u001b[0;34m.\u001b[0m\u001b[0mlabels_\u001b[0m\u001b[0;34m\u001b[0m\u001b[0;34m\u001b[0m\u001b[0m\n\u001b[0m\u001b[1;32m     49\u001b[0m         \u001b[0mlabels\u001b[0m \u001b[0;34m=\u001b[0m \u001b[0mcluster_method\u001b[0m\u001b[0;34m(\u001b[0m\u001b[0mdistance_matrix\u001b[0m\u001b[0;34m)\u001b[0m\u001b[0;34m\u001b[0m\u001b[0;34m\u001b[0m\u001b[0m\n\u001b[1;32m     50\u001b[0m \u001b[0;34m\u001b[0m\u001b[0m\n",
      "\u001b[0;32m~/anaconda3/envs/RFDev/lib/python3.8/site-packages/sklearn_extra/cluster/_k_medoids.py\u001b[0m in \u001b[0;36mfit\u001b[0;34m(self, X, y)\u001b[0m\n\u001b[1;32m    218\u001b[0m             \u001b[0;32melif\u001b[0m \u001b[0mself\u001b[0m\u001b[0;34m.\u001b[0m\u001b[0mmethod\u001b[0m \u001b[0;34m==\u001b[0m \u001b[0;34m\"pam\"\u001b[0m\u001b[0;34m:\u001b[0m\u001b[0;34m\u001b[0m\u001b[0;34m\u001b[0m\u001b[0m\n\u001b[1;32m    219\u001b[0m                 \u001b[0mnot_medoid_idxs\u001b[0m \u001b[0;34m=\u001b[0m \u001b[0mnp\u001b[0m\u001b[0;34m.\u001b[0m\u001b[0mdelete\u001b[0m\u001b[0;34m(\u001b[0m\u001b[0mnp\u001b[0m\u001b[0;34m.\u001b[0m\u001b[0marange\u001b[0m\u001b[0;34m(\u001b[0m\u001b[0mlen\u001b[0m\u001b[0;34m(\u001b[0m\u001b[0mD\u001b[0m\u001b[0;34m)\u001b[0m\u001b[0;34m)\u001b[0m\u001b[0;34m,\u001b[0m \u001b[0mmedoid_idxs\u001b[0m\u001b[0;34m)\u001b[0m\u001b[0;34m\u001b[0m\u001b[0;34m\u001b[0m\u001b[0m\n\u001b[0;32m--> 220\u001b[0;31m                 optimal_swap = _compute_optimal_swap(\n\u001b[0m\u001b[1;32m    221\u001b[0m                     \u001b[0mD\u001b[0m\u001b[0;34m,\u001b[0m\u001b[0;34m\u001b[0m\u001b[0;34m\u001b[0m\u001b[0m\n\u001b[1;32m    222\u001b[0m                     \u001b[0mmedoid_idxs\u001b[0m\u001b[0;34m.\u001b[0m\u001b[0mastype\u001b[0m\u001b[0;34m(\u001b[0m\u001b[0mnp\u001b[0m\u001b[0;34m.\u001b[0m\u001b[0mintc\u001b[0m\u001b[0;34m)\u001b[0m\u001b[0;34m,\u001b[0m\u001b[0;34m\u001b[0m\u001b[0;34m\u001b[0m\u001b[0m\n",
      "\u001b[0;31mKeyboardInterrupt\u001b[0m: "
     ]
    }
   ],
   "source": [
    "optimal_k = forest_guided_clustering(output='forest_guided_clustering_regression', model=rf, data=data_boston, target_column='target',  \n",
    "                                     max_K = 8, thr_pvalue = 0.001, \n",
    "                                     bootstraps = 100, max_iter_clustering = 100, discart_value = 0.6, number_of_clusters = None, random_state = 42)"
   ]
  },
  {
   "cell_type": "code",
   "execution_count": null,
   "id": "5b2d82b8-8dc5-4f0b-9f6f-7f63250af68c",
   "metadata": {},
   "outputs": [],
   "source": []
  }
 ],
 "metadata": {
  "kernelspec": {
   "display_name": "RFDev",
   "language": "python",
   "name": "rfdev"
  },
  "language_info": {
   "codemirror_mode": {
    "name": "ipython",
    "version": 3
   },
   "file_extension": ".py",
   "mimetype": "text/x-python",
   "name": "python",
   "nbconvert_exporter": "python",
   "pygments_lexer": "ipython3",
   "version": "3.8.11"
  }
 },
 "nbformat": 4,
 "nbformat_minor": 5
}
