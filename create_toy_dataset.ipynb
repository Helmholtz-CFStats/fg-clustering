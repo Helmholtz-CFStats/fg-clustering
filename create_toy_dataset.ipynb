{
 "cells": [
  {
   "cell_type": "code",
   "execution_count": 1,
   "source": [
    "import joblib\n",
    "import pandas as pd\n",
    "\n",
    "from sklearn.datasets import load_breast_cancer\n",
    "from sklearn.datasets import load_iris\n",
    "from sklearn.model_selection import train_test_split\n",
    "from sklearn.ensemble import RandomForestClassifier\n",
    "from sklearn.model_selection import GridSearchCV"
   ],
   "outputs": [],
   "metadata": {}
  },
  {
   "cell_type": "markdown",
   "source": [
    "# Process Dataset Breast Cancer"
   ],
   "metadata": {}
  },
  {
   "cell_type": "code",
   "execution_count": 2,
   "source": [
    "data_breast_cancer = load_breast_cancer(as_frame=True)\n",
    "data_breast_cancer = data_breast_cancer.frame\n",
    "\n",
    "data_breast_cancer.to_csv('test/data_breast_cancer.csv')"
   ],
   "outputs": [],
   "metadata": {}
  },
  {
   "cell_type": "code",
   "execution_count": 3,
   "source": [
    "X_breast_cancer = data_breast_cancer.loc[:, data_breast_cancer.columns != 'target']\n",
    "y_breast_cancer = data_breast_cancer.target\n",
    "\n",
    "X_train, X_test, y_train, y_test = train_test_split(X_breast_cancer, y_breast_cancer, test_size=0.2, random_state=42)"
   ],
   "outputs": [],
   "metadata": {}
  },
  {
   "cell_type": "code",
   "execution_count": 4,
   "source": [
    "grid = {'max_depth':[2,5], 'bootstrap': [True], 'oob_score': [True], 'max_samples': [0.8, 0.9]}\n",
    "classifier = RandomForestClassifier(oob_score=True, random_state=42)\n",
    "grid_classifier = GridSearchCV(classifier, grid, cv=5)\n",
    "grid_classifier.fit(X_train, y_train)\n",
    "rf = grid_classifier.best_estimator_\n",
    "\n",
    "print('Parameters of best prediction model:')\n",
    "print(grid_classifier.best_params_)\n",
    "print('OOB accuracy of prediction model:')\n",
    "print(rf.oob_score_)"
   ],
   "outputs": [
    {
     "output_type": "stream",
     "name": "stdout",
     "text": [
      "Parameters of best prediction model:\n",
      "{'bootstrap': True, 'max_depth': 5, 'max_samples': 0.9, 'oob_score': True}\n",
      "OOB accuracy of prediction model:\n",
      "0.9626373626373627\n"
     ]
    }
   ],
   "metadata": {}
  },
  {
   "cell_type": "code",
   "execution_count": 5,
   "source": [
    "filename_model = 'test/random_forest_breat_cancer.joblib'\n",
    "joblib.dump(rf, open(filename_model, 'wb'))"
   ],
   "outputs": [],
   "metadata": {}
  },
  {
   "cell_type": "markdown",
   "source": [
    "# Process Dataset Iris"
   ],
   "metadata": {}
  },
  {
   "cell_type": "code",
   "execution_count": 7,
   "source": [
    "data_iris = load_iris(as_frame=True)\n",
    "data_iris = data_iris.frame\n",
    "\n",
    "data_iris.to_csv('test/data_iris.csv')"
   ],
   "outputs": [],
   "metadata": {}
  },
  {
   "cell_type": "code",
   "execution_count": 8,
   "source": [
    "X_iris = data_iris.loc[:, data_iris.columns != 'target']\n",
    "y_iris = data_iris.target\n",
    "\n",
    "X_train, X_test, y_train, y_test = train_test_split(X_iris, y_iris, test_size=0.2, random_state=42)"
   ],
   "outputs": [],
   "metadata": {}
  },
  {
   "cell_type": "code",
   "execution_count": 9,
   "source": [
    "grid = {'max_depth':[2,5], 'bootstrap': [True], 'oob_score': [True], 'max_samples': [0.8, 0.9]}\n",
    "classifier = RandomForestClassifier(oob_score=True, random_state=42)\n",
    "grid_classifier = GridSearchCV(classifier, grid, cv=5)\n",
    "grid_classifier.fit(X_train, y_train)\n",
    "rf = grid_classifier.best_estimator_\n",
    "\n",
    "print('Parameters of best prediction model:')\n",
    "print(grid_classifier.best_params_)\n",
    "print('OOB accuracy of prediction model:')\n",
    "print(rf.oob_score_)"
   ],
   "outputs": [
    {
     "output_type": "stream",
     "name": "stdout",
     "text": [
      "Parameters of best prediction model:\n",
      "{'bootstrap': True, 'max_depth': 2, 'max_samples': 0.8, 'oob_score': True}\n",
      "OOB accuracy of prediction model:\n",
      "0.9416666666666667\n"
     ]
    }
   ],
   "metadata": {}
  },
  {
   "cell_type": "code",
   "execution_count": 10,
   "source": [
    "filename_model = 'test/random_forest_iris.joblib'\n",
    "joblib.dump(rf, open(filename_model, 'wb'))"
   ],
   "outputs": [],
   "metadata": {}
  }
 ],
 "metadata": {
  "orig_nbformat": 4,
  "kernelspec": {
   "name": "kernel_forest_guided_clustering",
   "display_name": "kernel_forest_guided_clustering",
   "language": "python"
  },
  "language_info": {
   "name": "python",
   "version": "3.8.10",
   "mimetype": "text/x-python",
   "codemirror_mode": {
    "name": "ipython",
    "version": 3
   },
   "pygments_lexer": "ipython3",
   "nbconvert_exporter": "python",
   "file_extension": ".py"
  }
 },
 "nbformat": 4,
 "nbformat_minor": 2
}